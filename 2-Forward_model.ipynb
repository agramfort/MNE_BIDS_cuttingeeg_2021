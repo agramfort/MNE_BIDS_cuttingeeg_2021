{
 "cells": [
  {
   "cell_type": "markdown",
   "source": [
    "# Create a forward operator\n",
    "\n",
    "`\n",
    "Authors:\n",
    "    Eric Larson <larson.eric.d@gmail.com>\n",
    "    Denis Engemann <denis.engemann@gmail.com>\n",
    "    Alex Gramfort <alexandre.gramfort@inria.fr>\n",
    "    Dan McCloy <drmccloy@uw.edu>\n",
    "    Richard Hoechenberger <richard.hoechenberger@gmail.com>\n",
    "`\n",
    "\n",
    "Tutorial derived from:\n",
    "\n",
    "https://mne.tools/dev/auto_tutorials/forward/30_forward.html\n",
    "\n",
    "License: BSD (3-clause)"
   ],
   "metadata": {}
  },
  {
   "cell_type": "code",
   "execution_count": null,
   "source": [
    "%matplotlib inline"
   ],
   "outputs": [],
   "metadata": {}
  },
  {
   "cell_type": "markdown",
   "source": [
    "\n",
    "\n",
    "# Head model and forward computation\n",
    "\n",
    "The aim of this tutorial is to be a getting started for forward computation.\n",
    "\n",
    "For more extensive details and presentation of the general\n",
    "concepts for forward modeling, see `ch_forward`.\n"
   ],
   "metadata": {}
  },
  {
   "cell_type": "code",
   "execution_count": null,
   "source": [
    "from pathlib import Path\n",
    "import mne\n",
    "from mne_bids import BIDSPath\n",
    "\n",
    "bids_root = Path('ds000248/')\n",
    "\n",
    "bp = BIDSPath(\n",
    "    root=bids_root,  # BIDS root dataset folder\n",
    "    subject='01',  # subject name as a string\n",
    "    datatype='meg',  # datatype (meg, eeg, ieeg, anat, etc.)\n",
    "    task='audiovisual',  # Task e.g. audiovisual, rest, etc.\n",
    "    run='01',  # run id (optional)\n",
    "    session=None,  # there is no session on this dataset\n",
    "    extension='.fif'\n",
    ")\n",
    "\n",
    "raw_fname = bp.fpath\n",
    "# The paths to Freesurfer reconstructions\n",
    "subjects_dir = bids_root / 'derivatives' / 'freesurfer' / 'subjects'\n",
    "subject = 'sub-01'"
   ],
   "outputs": [],
   "metadata": {}
  },
  {
   "cell_type": "markdown",
   "source": [
    "## Computing the forward operator\n",
    "\n",
    "To compute a forward operator we need:\n",
    "\n",
    "   - an Head<->MRI transformation matrix (to position sensors wrt MRI)\n",
    "   - a source space\n",
    "   - the `BEM` surfaces"
   ],
   "metadata": {}
  },
  {
   "cell_type": "markdown",
   "source": [
    "## Compute and visualize BEM surfaces\n",
    "\n",
    "The `BEM` surfaces are the triangulations of the interfaces between\n",
    "different tissues needed for forward computation. These surfaces are for\n",
    "example the inner skull surface, the outer skull surface and the outer skin\n",
    "surface, a.k.a. scalp surface.\n",
    "\n",
    "Computing the BEM surfaces requires FreeSurfer and makes use of\n",
    "the command-line tools `mne watershed_bem` or `mne flash_bem`, or\n",
    "the related functions `mne.bem.make_watershed_bem` or\n",
    "`mne.bem.make_flash_bem`.\n",
    "\n",
    "Here we'll assume it's already computed. It takes a few minutes per subject.\n",
    "\n",
    "For EEG we use 3 layers (inner skull, outer skull, and skin) while for\n",
    "MEG 1 layer (inner skull) is enough.\n",
    "\n",
    "Let's look at these surfaces. The function `mne.viz.plot_bem`\n",
    "assumes that you have the ``bem`` folder of your subject's FreeSurfer\n",
    "reconstruction, containing the necessary surface files.\n",
    "\n"
   ],
   "metadata": {}
  },
  {
   "cell_type": "code",
   "execution_count": null,
   "source": [
    "mne.viz.plot_bem(subject=subject, subjects_dir=subjects_dir,\n",
    "                 brain_surfaces='white', orientation='coronal');"
   ],
   "outputs": [],
   "metadata": {}
  },
  {
   "cell_type": "markdown",
   "source": [
    "## Visualizing the coregistration\n",
    "\n",
    "The coregistration is the operation that allows to position the head and the\n",
    "sensors in a common coordinate system. In the MNE software the transformation\n",
    "to align the head and the sensors in stored in a so-called **trans file**.\n",
    "It is a FIF file that ends with ``-trans.fif``. It can be obtained with `mne.gui.coregistration` (or its convenient command line\n",
    "equivalent `mne coreg`), or mrilab if you're using a Neuromag\n",
    "system."
   ],
   "metadata": {}
  },
  {
   "cell_type": "code",
   "execution_count": null,
   "source": [
    "# The transformation file obtained by coregistration\n",
    "trans = 'sub-01-trans.fif'\n",
    "\n",
    "info = mne.io.read_info(raw_fname)\n",
    "# Here we look at the dense head, which isn't used for BEM computations but\n",
    "# is useful for coregistration.\n",
    "mne.viz.plot_alignment(info, trans, subject=subject, dig=True,\n",
    "                       meg=['helmet', 'sensors'], subjects_dir=subjects_dir)"
   ],
   "outputs": [],
   "metadata": {}
  },
  {
   "cell_type": "markdown",
   "source": [
    "It's also possible to obtain an head<->MRI transformation using fiducial landmarks present in the BIDS dataset."
   ],
   "metadata": {}
  },
  {
   "cell_type": "code",
   "execution_count": null,
   "source": [
    "%cat ds000248/sub-01/anat/sub-01_T1w.json"
   ],
   "outputs": [],
   "metadata": {}
  },
  {
   "cell_type": "code",
   "execution_count": null,
   "source": [
    "from mne_bids import get_head_mri_trans\n",
    "\n",
    "estim_trans = get_head_mri_trans(bids_path=bp, fs_subject='sub-01',\n",
    "                                 fs_subjects_dir=subjects_dir)\n",
    "estim_trans"
   ],
   "outputs": [],
   "metadata": {}
  },
  {
   "cell_type": "markdown",
   "source": [
    "\n",
    "## Compute Source Space\n",
    "\n",
    "The source space defines the position and orientation of the candidate source\n",
    "locations. There are two types of source spaces:\n",
    "\n",
    "- **surface-based** source space when the candidates are confined to a\n",
    "  surface.\n",
    "\n",
    "- **volumetric or discrete** source space when the candidates are discrete,\n",
    "  arbitrarily located source points bounded by the surface.\n",
    "\n",
    "**Surface-based** source space is computed using\n",
    "`mne.setup_source_space`, while **volumetric** source space is computed\n",
    "using `mne.setup_volume_source_space`.\n",
    "\n",
    "We will now compute a surface-based source space with an ``'oct4'``\n",
    "resolution. See `setting_up_source_space` for details on source space\n",
    "definition and spacing parameter."
   ],
   "metadata": {}
  },
  {
   "cell_type": "code",
   "execution_count": null,
   "source": [
    "src = mne.setup_source_space(subject, spacing='oct6', add_dist='patch',\n",
    "                             subjects_dir=subjects_dir)\n",
    "print(src)"
   ],
   "outputs": [],
   "metadata": {}
  },
  {
   "cell_type": "markdown",
   "source": [
    "The surface based source space ``src`` contains two parts, one for the left\n",
    "hemisphere (258 locations) and one for the right hemisphere (258\n",
    "locations). Sources can be visualized on top of the BEM surfaces in purple.\n",
    "\n"
   ],
   "metadata": {}
  },
  {
   "cell_type": "code",
   "execution_count": null,
   "source": [
    "mne.viz.plot_bem(subject=subject, subjects_dir=subjects_dir,\n",
    "                 brain_surfaces='white', src=src, orientation='coronal');"
   ],
   "outputs": [],
   "metadata": {}
  },
  {
   "cell_type": "markdown",
   "source": [
    "To compute a volume based source space defined with a grid of candidate\n",
    "dipoles inside a sphere of radius 90mm centered at (0.0, 0.0, 40.0) mm\n",
    "you can use the following code.\n",
    "Obviously here, the sphere is not perfect. It is not restricted to the\n",
    "brain and it can miss some parts of the cortex.\n",
    "\n"
   ],
   "metadata": {}
  },
  {
   "cell_type": "code",
   "execution_count": null,
   "source": [
    "sphere = (0.0, 0.0, 0.04, 0.09)\n",
    "vol_src = mne.setup_volume_source_space(subject, subjects_dir=subjects_dir,\n",
    "                                        sphere=sphere, sphere_units='m')\n",
    "print(vol_src)\n",
    "\n",
    "mne.viz.plot_bem(subject=subject, subjects_dir=subjects_dir,\n",
    "                 brain_surfaces='white', src=vol_src, orientation='coronal');"
   ],
   "outputs": [],
   "metadata": {}
  },
  {
   "cell_type": "markdown",
   "source": [
    "To compute a volume based source space defined with a grid of candidate\n",
    "dipoles inside the brain (requires the `BEM` surfaces) you can use the\n",
    "following."
   ],
   "metadata": {}
  },
  {
   "cell_type": "code",
   "execution_count": null,
   "source": [
    "surface = str(subjects_dir / subject / 'bem' / 'inner_skull.surf')\n",
    "vol_src = mne.setup_volume_source_space(\n",
    "    subject, subjects_dir=subjects_dir, surface=surface)\n",
    "print(vol_src)\n",
    "\n",
    "mne.viz.plot_bem(subject=subject, subjects_dir=subjects_dir,\n",
    "                 brain_surfaces='white', src=vol_src, orientation='coronal');"
   ],
   "outputs": [],
   "metadata": {}
  },
  {
   "cell_type": "markdown",
   "source": [
    "<div class=\"alert alert-info\"><h4>Note</h4><p>Some sources may appear to be outside the BEM inner skull contour.\n",
    "          This is because the ``slices`` are decimated for plotting here.\n",
    "          Each slice in the figure actually represents several MRI slices,\n",
    "          but only the MRI voxels and BEM boundaries for a single (midpoint\n",
    "          of the given slice range) slice are shown, whereas the source space\n",
    "          points plotted on that midpoint slice consist of all points\n",
    "          for which that slice (out of all slices shown) was the closest.</p></div>\n",
    "\n",
    "Now let's see how to view all sources in 3D.\n",
    "\n"
   ],
   "metadata": {}
  },
  {
   "cell_type": "code",
   "execution_count": null,
   "source": [
    "fig = mne.viz.plot_alignment(subject=subject, subjects_dir=subjects_dir,\n",
    "                             surfaces='white', coord_frame='mri',\n",
    "                             src=src)\n",
    "mne.viz.set_3d_view(fig, azimuth=173.78, elevation=101.75,\n",
    "                    distance=0.30, focalpoint=(-0.03, -0.01, 0.03));"
   ],
   "outputs": [],
   "metadata": {}
  },
  {
   "cell_type": "markdown",
   "source": [
    "\n",
    "## Compute forward solution\n",
    "\n",
    "We can now compute the forward solution.\n",
    "To reduce computation we'll just compute a single layer BEM (just inner\n",
    "skull) that can then be used for MEG (not EEG).\n",
    "We specify if we want a one-layer or a three-layer BEM using the\n",
    "``conductivity`` parameter.\n",
    "The BEM solution requires a BEM model which describes the geometry\n",
    "of the head the conductivities of the different tissues.\n",
    "\n"
   ],
   "metadata": {}
  },
  {
   "cell_type": "code",
   "execution_count": null,
   "source": [
    "conductivity = (0.3,)  # for single layer\n",
    "# conductivity = (0.3, 0.006, 0.3)  # for three layers\n",
    "model = mne.make_bem_model(subject=subject, ico=4,\n",
    "                           conductivity=conductivity,\n",
    "                           subjects_dir=subjects_dir)\n",
    "bem = mne.make_bem_solution(model)"
   ],
   "outputs": [],
   "metadata": {}
  },
  {
   "cell_type": "markdown",
   "source": [
    "Note that the `BEM` does not involve any use of the trans file. The BEM\n",
    "only depends on the head geometry and conductivities.\n",
    "It is therefore independent from the MEG data and the head position.\n",
    "\n",
    "Let's now compute the forward operator, commonly referred to as the\n",
    "gain or leadfield matrix.\n",
    "See `mne.make_forward_solution` for details on the meaning of each\n",
    "parameter."
   ],
   "metadata": {}
  },
  {
   "cell_type": "code",
   "execution_count": null,
   "source": [
    "fwd = mne.make_forward_solution(str(raw_fname), trans=trans, src=src, bem=bem,\n",
    "                                meg=True, eeg=False, mindist=5.0, n_jobs=1,\n",
    "                                verbose=True)\n",
    "print(fwd)"
   ],
   "outputs": [],
   "metadata": {}
  },
  {
   "cell_type": "markdown",
   "source": [
    "<div class=\"alert alert-danger\"><h4>Warning</h4><p>Forward computation can remove vertices that are too close to (or outside)\n",
    "   the inner skull surface. For example, here we have gone from 516 to 474\n",
    "   vertices in use. For many functions, such as\n",
    "   `mne.compute_source_morph`, it is important to pass ``fwd['src']``\n",
    "   or ``inv['src']`` so that this removal is adequately accounted for.</p></div>"
   ],
   "metadata": {}
  },
  {
   "cell_type": "markdown",
   "source": [
    "## Now let's save the forward as a BIDS derivative"
   ],
   "metadata": {}
  },
  {
   "cell_type": "code",
   "execution_count": null,
   "source": [
    "bp_fwd = bp.copy().update(\n",
    "    root=bids_root / \"derivatives\",\n",
    "    suffix=\"fwd\",\n",
    "    task=None,\n",
    "    run=None,\n",
    "    check=False\n",
    ")\n",
    "\n",
    "mne.write_forward_solution(bp_fwd, fwd)\n",
    "bp_fwd.fpath"
   ],
   "outputs": [],
   "metadata": {}
  },
  {
   "cell_type": "markdown",
   "source": [
    "## Advanced"
   ],
   "metadata": {}
  },
  {
   "cell_type": "code",
   "execution_count": null,
   "source": [
    "print(f'Before: {src}')\n",
    "print(f'After:  {fwd[\"src\"]}')"
   ],
   "outputs": [],
   "metadata": {}
  },
  {
   "cell_type": "markdown",
   "source": [
    "We can explore the content of ``fwd`` to access the numpy array that contains\n",
    "the gain matrix.\n",
    "\n"
   ],
   "metadata": {}
  },
  {
   "cell_type": "code",
   "execution_count": null,
   "source": [
    "leadfield = fwd['sol']['data']\n",
    "print(\"Leadfield size : %d sensors x %d dipoles\" % leadfield.shape)"
   ],
   "outputs": [],
   "metadata": {}
  },
  {
   "cell_type": "markdown",
   "source": [
    "To extract the numpy array containing the forward operator corresponding to\n",
    "the source space ``fwd['src']`` with cortical orientation constraint\n",
    "we can use the following:\n",
    "\n"
   ],
   "metadata": {}
  },
  {
   "cell_type": "code",
   "execution_count": null,
   "source": [
    "fwd_fixed = mne.convert_forward_solution(fwd, surf_ori=True, force_fixed=True,\n",
    "                                         use_cps=True)\n",
    "leadfield = fwd_fixed['sol']['data']\n",
    "print(\"Leadfield size : %d sensors x %d dipoles\" % leadfield.shape)"
   ],
   "outputs": [],
   "metadata": {}
  },
  {
   "cell_type": "markdown",
   "source": [
    "This is equivalent to the following code that explicitly applies the\n",
    "forward operator to a source estimate composed of the identity operator\n",
    "(which we omit here because it uses a lot of memory)::\n",
    "\n",
    "    >>> import numpy as np\n",
    "    >>> n_dipoles = leadfield.shape[1]\n",
    "    >>> vertices = [src_hemi['vertno'] for src_hemi in fwd_fixed['src']]\n",
    "    >>> stc = mne.SourceEstimate(1e-9 * np.eye(n_dipoles), vertices)\n",
    "    >>> leadfield = mne.apply_forward(fwd_fixed, stc, info).data / 1e-9\n",
    "\n",
    "To save to disk a forward solution you can use\n",
    "`mne.write_forward_solution` and to read it back from disk\n",
    "`mne.read_forward_solution`. Don't forget that FIF files containing\n",
    "forward solution should end with `-fwd.fif`.\n",
    "\n",
    "To get a fixed-orientation forward solution, use\n",
    "`mne.convert_forward_solution` to convert the free-orientation\n",
    "solution to (surface-oriented) fixed orientation.\n",
    "\n",
    "## Exercise\n",
    "\n",
    "By looking at `ex-sensitivity-maps`\n",
    "plot the sensitivity maps for EEG and compare it with the MEG, can you\n",
    "justify the claims that:\n",
    "\n",
    "  - MEG is not sensitive to radial sources\n",
    "  - EEG is more sensitive to deep sources\n",
    "\n",
    "How will the MEG sensitivity maps and histograms change if you use a free\n",
    "instead if a fixed/surface oriented orientation?\n",
    "\n",
    "Try this changing the mode parameter in `mne.sensitivity_map`\n",
    "accordingly. Why don't we see any dipoles on the gyri?"
   ],
   "metadata": {}
  }
 ],
 "metadata": {
  "kernelspec": {
   "display_name": "Python 3",
   "language": "python",
   "name": "python3"
  },
  "language_info": {
   "codemirror_mode": {
    "name": "ipython",
    "version": 3
   },
   "file_extension": ".py",
   "mimetype": "text/x-python",
   "name": "python",
   "nbconvert_exporter": "python",
   "pygments_lexer": "ipython3",
   "version": "3.8.6"
  }
 },
 "nbformat": 4,
 "nbformat_minor": 1
}
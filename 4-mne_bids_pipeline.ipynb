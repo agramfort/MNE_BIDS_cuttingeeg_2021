{
 "cells": [
  {
   "cell_type": "markdown",
   "metadata": {},
   "source": [
    "# Running the MNE-BIDS-pipeline\n",
    "\n",
    "`\n",
    "Authors:\n",
    "Alexandre Gramfort\n",
    "Richard Hoechenberger\n",
    "`\n",
    "\n",
    "For more details on the config parameters have a look at:\n",
    "\n",
    "https://mne.tools/mne-bids-pipeline/settings/general.html\n",
    "\n",
    "First let's look at our [config file](./config_ds000248.py)"
   ]
  },
  {
   "cell_type": "code",
   "execution_count": null,
   "metadata": {},
   "outputs": [],
   "source": [
    "%cat config_ds000248.py"
   ]
  },
  {
   "cell_type": "markdown",
   "metadata": {},
   "source": [
    "## Running the pipeline\n",
    "\n",
    "To run the notebook start a terminal from jupyter or just a simple terminal and run:\n",
    "\n",
    "`/path/to/mne-bids-pipeline/run.py config_ds000248.py`\n",
    "\n",
    "Eg for alex it's:\n",
    "\n",
    "`~/work/src/mne-bids-pipeline/run.py config_ds000248.py`\n",
    "\n",
    "To run only preprocessing and report (faster) do:\n",
    "\n",
    "`/path/to/mne-bids-pipeline/run.py config_ds000248.py --steps=preprocessing,report`\n",
    "\n",
    "If you have any question please ask of the [MNE Forum](https://mne.discourse.group)\n",
    "and if you hit a bug please report it on [Github issue tracker](https://github.com/mne-tools/mne-bids-pipeline/issues)"
   ]
  }
 ],
 "metadata": {
  "kernelspec": {
   "display_name": "Python 3",
   "language": "python",
   "name": "python3"
  },
  "language_info": {
   "codemirror_mode": {
    "name": "ipython",
    "version": 3
   },
   "file_extension": ".py",
   "mimetype": "text/x-python",
   "name": "python",
   "nbconvert_exporter": "python",
   "pygments_lexer": "ipython3",
   "version": "3.8.6"
  }
 },
 "nbformat": 4,
 "nbformat_minor": 4
}

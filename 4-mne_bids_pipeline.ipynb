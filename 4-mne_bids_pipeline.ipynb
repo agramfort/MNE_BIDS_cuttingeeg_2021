{
 "cells": [
  {
   "cell_type": "markdown",
   "metadata": {},
   "source": [
    "# Running the MNE-BIDS-pipeline\n",
    "\n",
    "`\n",
    "Authors:\n",
    "Alexandre Gramfort\n",
    "Richard Hoechenberger\n",
    "`\n",
    "\n",
    "For more details on the config parameters have a look at:\n",
    "\n",
    "https://mne.tools/mne-bids-pipeline/settings/general.html\n",
    "\n",
    "First let's look at our [config file](./config_ds000248.py)"
   ]
  },
  {
   "cell_type": "code",
   "execution_count": 1,
   "metadata": {},
   "outputs": [
    {
     "name": "stdout",
     "output_type": "stream",
     "text": [
      "study_name = 'ds000248'\r\n",
      "bids_root = './ds000248'\r\n",
      "deriv_root = f'{bids_root}/derivatives/mne-bids-pipeline/'\r\n",
      "subjects_dir = f'{bids_root}/derivatives/freesurfer/subjects'\r\n",
      "\r\n",
      "subjects = ['01']\r\n",
      "rename_events = {'Smiley': 'Emoji',\r\n",
      "                 'Button': 'Switch'}\r\n",
      "conditions = ['Auditory', 'Visual', 'Auditory/Left', 'Auditory/Right']\r\n",
      "contrasts = [('Visual', 'Auditory'),\r\n",
      "             ('Auditory/Right', 'Auditory/Left')]\r\n",
      "\r\n",
      "time_frequency_conditions = ['Auditory', 'Visual']\r\n",
      "\r\n",
      "ch_types = ['meg']\r\n",
      "mf_reference_run = '01'\r\n",
      "find_flat_channels_meg = True\r\n",
      "find_noisy_channels_meg = True\r\n",
      "use_maxwell_filter = True\r\n",
      "process_er = True\r\n",
      "noise_cov = 'emptyroom'\r\n",
      "\r\n",
      "spatial_filter = 'ssp'\r\n",
      "n_proj_eog = dict(n_mag=1, n_grad=1, n_eeg=1)\r\n",
      "n_proj_ecg = dict(n_mag=1, n_grad=1, n_eeg=0)\r\n",
      "ecg_proj_from_average = True\r\n",
      "eog_proj_from_average = False\r\n",
      "\r\n",
      "bem_mri_images = 'FLASH'\r\n",
      "recreate_bem = True\r\n",
      "recreate_scalp_surface = True\r\n",
      "\r\n",
      "\r\n",
      "def mri_t1_path_generator(bids_path):\r\n",
      "    # don't really do any modifications – just for testing!\r\n",
      "    return bids_path\r\n"
     ]
    }
   ],
   "source": [
    "%cat config_ds000248.py"
   ]
  },
  {
   "cell_type": "markdown",
   "metadata": {},
   "source": [
    "## Running the pipeline\n",
    "\n",
    "To run the notebook start a terminal from jupyter or just a simple terminal and run:\n",
    "\n",
    "`/path/to/mne-bids-pipeline/run.py config_ds000248.py`\n",
    "\n",
    "Eg for alex it's:\n",
    "\n",
    "`~/work/src/mne-bids-pipeline/run.py config_ds000248.py`\n",
    "\n",
    "To run only preprocessing and report (faster) do:\n",
    "\n",
    "`/path/to/mne-bids-pipeline/run.py config_ds000248.py --steps=preprocessing,report`\n",
    "\n",
    "If you have any question please ask of the [MNE Forum](https://mne.discourse.group)\n",
    "and if you hit a bug please report it on [Github issue tracker](https://github.com/mne-tools/mne-bids-pipeline/issues)"
   ]
  }
 ],
 "metadata": {
  "kernelspec": {
   "display_name": "Python 3",
   "language": "python",
   "name": "python3"
  },
  "language_info": {
   "codemirror_mode": {
    "name": "ipython",
    "version": 3
   },
   "file_extension": ".py",
   "mimetype": "text/x-python",
   "name": "python",
   "nbconvert_exporter": "python",
   "pygments_lexer": "ipython3",
   "version": "3.8.6"
  }
 },
 "nbformat": 4,
 "nbformat_minor": 4
}

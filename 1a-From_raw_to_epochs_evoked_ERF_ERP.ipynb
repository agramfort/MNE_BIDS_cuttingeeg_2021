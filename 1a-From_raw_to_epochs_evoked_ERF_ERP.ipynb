{
 "cells": [
  {
   "cell_type": "markdown",
   "source": [
    "# MNE : From raw data to epochs and evoked responses (ERF/ERP) using BIDS formated data\n",
    "\n",
    "`\n",
    "Authors:\n",
    "Alexandre Gramfort\n",
    "Denis A. Engemann\n",
    "Jona Sassenhagen\n",
    "Richard Hoechenberger\n",
    "`"
   ],
   "metadata": {}
  },
  {
   "cell_type": "code",
   "execution_count": null,
   "source": [
    "import numpy as np\n",
    "import matplotlib as mpl\n",
    "import matplotlib.pyplot as plt"
   ],
   "outputs": [],
   "metadata": {}
  },
  {
   "cell_type": "markdown",
   "source": [
    "First, load the mne package:"
   ],
   "metadata": {}
  },
  {
   "cell_type": "code",
   "execution_count": null,
   "source": [
    "import mne"
   ],
   "outputs": [],
   "metadata": {}
  },
  {
   "cell_type": "markdown",
   "source": [
    "We set the log-level to 'warning' so the output is less verbose"
   ],
   "metadata": {}
  },
  {
   "cell_type": "code",
   "execution_count": null,
   "source": [
    "mne.set_log_level('warning')"
   ],
   "outputs": [],
   "metadata": {}
  },
  {
   "cell_type": "markdown",
   "source": [
    "Let's download the data with [openneuro-py](https://github.com/hoechenberger/openneuro-py):"
   ],
   "metadata": {}
  },
  {
   "cell_type": "code",
   "execution_count": null,
   "source": [
    "import openneuro\n",
    "\n",
    "download_data = False\n",
    "\n",
    "if download_data:\n",
    "    from pkg_resources import parse_version\n",
    "    if parse_version(openneuro.__version__) < parse_version('2021.9'):\n",
    "        raise RuntimeError('You need to install openneuro-py 2021.9 or newer')\n",
    "\n",
    "    openneuro.download(\n",
    "        dataset='ds000248',\n",
    "        include=[\n",
    "            'sub-01',\n",
    "            'sub-emptyroom',\n",
    "            'derivatives/freesurfer/subjects'\n",
    "        ]\n",
    "    )"
   ],
   "outputs": [],
   "metadata": {}
  },
  {
   "cell_type": "code",
   "execution_count": null,
   "source": [
    "# !openneuro-py download --dataset=ds000248"
   ],
   "outputs": [],
   "metadata": {}
  },
  {
   "cell_type": "markdown",
   "source": [
    "### Now let's import mne-bids\n",
    "\n",
    "mne-bids allows to read and write mne objects in bids standard"
   ],
   "metadata": {}
  },
  {
   "cell_type": "code",
   "execution_count": null,
   "source": [
    "import mne_bids"
   ],
   "outputs": [],
   "metadata": {}
  },
  {
   "cell_type": "markdown",
   "source": [
    "#### Let's check our versions"
   ],
   "metadata": {}
  },
  {
   "cell_type": "code",
   "execution_count": null,
   "source": [
    "mne.sys_info()"
   ],
   "outputs": [],
   "metadata": {}
  },
  {
   "cell_type": "code",
   "execution_count": null,
   "source": [
    "mne_bids.__version__"
   ],
   "outputs": [],
   "metadata": {}
  },
  {
   "cell_type": "markdown",
   "source": [
    "### Remember if you need help just ask... the machine"
   ],
   "metadata": {}
  },
  {
   "cell_type": "code",
   "execution_count": null,
   "source": [
    "mne.pick_types?"
   ],
   "outputs": [],
   "metadata": {}
  },
  {
   "cell_type": "markdown",
   "source": [
    "### Let's first see what we have dataset folder contains"
   ],
   "metadata": {}
  },
  {
   "cell_type": "code",
   "execution_count": null,
   "source": [
    "from mne_bids import print_dir_tree\n",
    "bids_root = \"ds000248\"\n",
    "print_dir_tree(bids_root, max_depth=4)"
   ],
   "outputs": [],
   "metadata": {}
  },
  {
   "cell_type": "code",
   "execution_count": null,
   "source": [
    "%cat ds000248/sub-01/meg/sub-01_task-audiovisual_run-01_channels.tsv"
   ],
   "outputs": [],
   "metadata": {}
  },
  {
   "cell_type": "code",
   "execution_count": null,
   "source": [
    "import pandas as pd\n",
    "df = pd.read_csv('ds000248/sub-01/meg/sub-01_task-audiovisual_run-01_channels.tsv', sep='\\t')\n",
    "df"
   ],
   "outputs": [],
   "metadata": {}
  },
  {
   "cell_type": "code",
   "execution_count": null,
   "source": [
    "df.groupby('type').count()"
   ],
   "outputs": [],
   "metadata": {}
  },
  {
   "cell_type": "markdown",
   "source": [
    "## Access raw data: read_raw_bids vs read_raw_fif"
   ],
   "metadata": {}
  },
  {
   "cell_type": "code",
   "execution_count": null,
   "source": [
    "ls ds000248/sub-01/meg/"
   ],
   "outputs": [],
   "metadata": {}
  },
  {
   "cell_type": "code",
   "execution_count": null,
   "source": [
    "bp = mne_bids.BIDSPath(\n",
    "    root='ds000248/',  # BIDS root dataset folder\n",
    "    subject='01',  # subject name as a string\n",
    "    datatype='meg',  # datatype (meg, eeg, ieeg, anat, etc.)\n",
    "    task='audiovisual',  # Task e.g. audiovisual, rest, etc.\n",
    "    run='01',  # run id (optional)\n",
    "    session=None,  # there is no session in this dataset\n",
    "    extension='.fif'\n",
    ")"
   ],
   "outputs": [],
   "metadata": {}
  },
  {
   "cell_type": "markdown",
   "source": [
    "Use read_raw_bids to read raw meg files with mne_bids. It reads also information\n",
    "in all sidecar files (bad channels, channel units etc.)"
   ],
   "metadata": {}
  },
  {
   "cell_type": "code",
   "execution_count": null,
   "source": [
    "from mne_bids import read_raw_bids\n",
    "raw = read_raw_bids(bp)"
   ],
   "outputs": [],
   "metadata": {}
  },
  {
   "cell_type": "markdown",
   "source": [
    "With just mne-python you would to:"
   ],
   "metadata": {}
  },
  {
   "cell_type": "code",
   "execution_count": null,
   "source": [
    "mne.io.read_raw_fif?"
   ],
   "outputs": [],
   "metadata": {}
  },
  {
   "cell_type": "code",
   "execution_count": null,
   "source": [
    "raw_fname = bp.fpath\n",
    "print(raw_fname)"
   ],
   "outputs": [],
   "metadata": {}
  },
  {
   "cell_type": "code",
   "execution_count": null,
   "source": [
    "raw_tmp = mne.io.read_raw_fif(raw_fname)\n",
    "print(raw_tmp)\n",
    "del raw_tmp"
   ],
   "outputs": [],
   "metadata": {}
  },
  {
   "cell_type": "markdown",
   "source": [
    "For more details about IO of different file formats see [IO with MNE](http://martinos.org/mne/dev/manual/io.html)\n",
    "\n",
    "MNE-BIDS supports official BIDS formats:\n",
    "- https://bids-specification.readthedocs.io/en/stable/99-appendices/06-meg-file-formats.html\n",
    "- https://bids-specification.readthedocs.io/en/stable/04-modality-specific-files/03-electroencephalography.html\n",
    "\n",
    "Let's now look a bit at our data. Let's look at the power spectrum density (PSD). It's a very efficient way to spot issues with the data (e.g. bad channels, line noise corruption"
   ],
   "metadata": {}
  },
  {
   "cell_type": "code",
   "execution_count": null,
   "source": [
    "%matplotlib qt\n",
    "raw.plot_psd(fmax=40);"
   ],
   "outputs": [],
   "metadata": {}
  },
  {
   "cell_type": "markdown",
   "source": [
    "Now let's look at the measurement info. It will give details about:\n",
    "\n",
    "   - sampling rate\n",
    "   - filtering parameters\n",
    "   - available channel types\n",
    "   - bad channels\n",
    "   - etc."
   ],
   "metadata": {}
  },
  {
   "cell_type": "code",
   "execution_count": null,
   "source": [
    "raw.info"
   ],
   "outputs": [],
   "metadata": {}
  },
  {
   "cell_type": "markdown",
   "source": [
    "raw.info is just a dictionary:"
   ],
   "metadata": {}
  },
  {
   "cell_type": "code",
   "execution_count": null,
   "source": [
    "isinstance(raw.info, dict)"
   ],
   "outputs": [],
   "metadata": {}
  },
  {
   "cell_type": "markdown",
   "source": [
    "So we can access its elements this way:"
   ],
   "metadata": {}
  },
  {
   "cell_type": "code",
   "execution_count": null,
   "source": [
    "print(raw.info)"
   ],
   "outputs": [],
   "metadata": {}
  },
  {
   "cell_type": "code",
   "execution_count": null,
   "source": [
    "raw.info['sfreq']  # Sampling frequency"
   ],
   "outputs": [],
   "metadata": {}
  },
  {
   "cell_type": "code",
   "execution_count": null,
   "source": [
    "raw.info['bads']  # list of marked bad channels"
   ],
   "outputs": [],
   "metadata": {}
  },
  {
   "cell_type": "markdown",
   "source": [
    "Next let's see what channels are present. It is available via the `raw.ch_names` attribute."
   ],
   "metadata": {}
  },
  {
   "cell_type": "code",
   "execution_count": null,
   "source": [
    "raw.ch_names"
   ],
   "outputs": [],
   "metadata": {}
  },
  {
   "cell_type": "markdown",
   "source": [
    "You can index it as a list"
   ],
   "metadata": {}
  },
  {
   "cell_type": "code",
   "execution_count": null,
   "source": [
    "raw.ch_names[42]"
   ],
   "outputs": [],
   "metadata": {}
  },
  {
   "cell_type": "code",
   "execution_count": null,
   "source": [
    "raw.ch_names[:10]"
   ],
   "outputs": [],
   "metadata": {}
  },
  {
   "cell_type": "markdown",
   "source": [
    "Channel type of a specific channel"
   ],
   "metadata": {}
  },
  {
   "cell_type": "code",
   "execution_count": null,
   "source": [
    "channel_type = mne.io.pick.channel_type(raw.info, 75)\n",
    "print('Channel #75 is of type:', channel_type)\n",
    "\n",
    "channel_type = mne.io.pick.channel_type(raw.info, 320)\n",
    "print('Channel #320 is of type:', channel_type)"
   ],
   "outputs": [],
   "metadata": {}
  },
  {
   "cell_type": "markdown",
   "source": [
    "Info contains all the details about the sensors (type, locations, coordinate frame etc.)"
   ],
   "metadata": {}
  },
  {
   "cell_type": "code",
   "execution_count": null,
   "source": [
    "raw.info.keys()"
   ],
   "outputs": [],
   "metadata": {}
  },
  {
   "cell_type": "code",
   "execution_count": null,
   "source": [
    "len(raw.info['chs'])"
   ],
   "outputs": [],
   "metadata": {}
  },
  {
   "cell_type": "code",
   "execution_count": null,
   "source": [
    "type(raw.info['chs'])"
   ],
   "outputs": [],
   "metadata": {}
  },
  {
   "cell_type": "code",
   "execution_count": null,
   "source": [
    "raw.info['chs'][0]"
   ],
   "outputs": [],
   "metadata": {}
  },
  {
   "cell_type": "code",
   "execution_count": null,
   "source": [
    "raw.info['chs'][330]"
   ],
   "outputs": [],
   "metadata": {}
  },
  {
   "cell_type": "code",
   "execution_count": null,
   "source": [
    "%matplotlib inline\n",
    "\n",
    "raw.plot_sensors(kind='topomap', ch_type='grad');"
   ],
   "outputs": [],
   "metadata": {}
  },
  {
   "cell_type": "markdown",
   "source": [
    "## Accessing the data\n",
    "\n",
    "To access the data just use the [] syntax as to access any element of a list, dict etc."
   ],
   "metadata": {}
  },
  {
   "cell_type": "code",
   "execution_count": null,
   "source": [
    "start, stop = 0, 10\n",
    "data, times = raw[:, start:stop]  # fetch all channels and the first 10 time points\n",
    "print(data.shape)\n",
    "print(times.shape)"
   ],
   "outputs": [],
   "metadata": {}
  },
  {
   "cell_type": "code",
   "execution_count": null,
   "source": [
    "times"
   ],
   "outputs": [],
   "metadata": {}
  },
  {
   "cell_type": "markdown",
   "source": [
    "Note that it returns both the data and the times array."
   ],
   "metadata": {}
  },
  {
   "cell_type": "markdown",
   "source": [
    "# Visualizing raw data\n",
    "\n",
    "See http://martinos.org/mne/stable/auto_tutorials/plot_visualize_raw.html\n",
    "for more details.\n",
    "\n",
    "Let's look at how to:\n",
    "- browse data\n",
    "- turn On/Off the PCA/SSP projections\n",
    "- mark bad segments to obtained annotations\n",
    "- group channel by types\n",
    "- group channel by location"
   ],
   "metadata": {}
  },
  {
   "cell_type": "code",
   "execution_count": null,
   "source": [
    "%matplotlib qt\n",
    "\n",
    "raw.plot();"
   ],
   "outputs": [],
   "metadata": {}
  },
  {
   "cell_type": "code",
   "execution_count": null,
   "source": [
    "raw.annotations"
   ],
   "outputs": [],
   "metadata": {}
  },
  {
   "cell_type": "code",
   "execution_count": null,
   "source": [
    "raw.annotations.onset[:5]"
   ],
   "outputs": [],
   "metadata": {}
  },
  {
   "cell_type": "code",
   "execution_count": null,
   "source": [
    "raw.annotations.duration[:5]"
   ],
   "outputs": [],
   "metadata": {}
  },
  {
   "cell_type": "code",
   "execution_count": null,
   "source": [
    "raw.annotations.description[:5]"
   ],
   "outputs": [],
   "metadata": {}
  },
  {
   "cell_type": "code",
   "execution_count": null,
   "source": [
    "raw.annotations.save('raw_sample_annot.csv', overwrite=True)"
   ],
   "outputs": [],
   "metadata": {}
  },
  {
   "cell_type": "code",
   "execution_count": null,
   "source": [
    "df_annot = raw.annotations.to_data_frame()\n",
    "df_annot"
   ],
   "outputs": [],
   "metadata": {}
  },
  {
   "cell_type": "code",
   "execution_count": null,
   "source": [
    "%cat raw_sample_annot.csv"
   ],
   "outputs": [],
   "metadata": {}
  },
  {
   "cell_type": "markdown",
   "source": [
    "Save a segment of 150s of raw data (MEG only):"
   ],
   "metadata": {}
  },
  {
   "cell_type": "code",
   "execution_count": null,
   "source": [
    "mne.pick_types(raw.info, meg=False, eeg=True)"
   ],
   "outputs": [],
   "metadata": {}
  },
  {
   "cell_type": "code",
   "execution_count": null,
   "source": [
    "picks_meg = mne.pick_types(raw.info, meg=True, eeg=False, eog=False,\n",
    "                           stim=False, exclude='bads')\n",
    "raw.save('sample_audvis_meg_raw.fif', tmin=0., tmax=150., picks=picks_meg, overwrite=True)"
   ],
   "outputs": [],
   "metadata": {}
  },
  {
   "cell_type": "markdown",
   "source": [
    "### Filtering"
   ],
   "metadata": {}
  },
  {
   "cell_type": "markdown",
   "source": [
    "<div class=\"alert alert-success\">\n",
    "    <b>Exercise</b>:\n",
    "     <ul>\n",
    "    <li>Using the `raw.filter` method filter the data in the beta band (13, 30)</li>\n",
    "    <li>Using the `raw.save` method save the filtered the data to a file `'sample_audvis_beta_raw.fif'`</li>\n",
    "    <li>Using the `mne_bids.write_raw_bids` function save the filtered the data in the derivatives folder. You will specify in the `BIDSPath` that the `processing` is `filter`</li>\n",
    "    </ul>\n",
    "</div>\n",
    "\n",
    "Solution is in: `solutions/1a-filter_beta_bids_write.py`"
   ],
   "metadata": {}
  },
  {
   "cell_type": "code",
   "execution_count": null,
   "source": [],
   "outputs": [],
   "metadata": {}
  },
  {
   "cell_type": "markdown",
   "source": [
    "<div class=\"alert alert-success\">\n",
    "    <b>Exercise</b>:\n",
    "     <ul>\n",
    "    <li>Filter the raw data between 1Hz and 40Hz. Observe the absence of the slow drifts.</li>\n",
    "    </ul>\n",
    "</div>"
   ],
   "metadata": {}
  },
  {
   "cell_type": "code",
   "execution_count": null,
   "source": [],
   "outputs": [],
   "metadata": {}
  },
  {
   "cell_type": "markdown",
   "source": [
    "<div class=\"alert alert-success\">\n",
    "    <b>Exercise</b>:\n",
    "     <ul>\n",
    "    <li>Plot the 10 first seconds of stimutation channel just using matplotlib.</li>\n",
    "    </ul>\n",
    "</div>\n",
    "\n",
    "Tips:\n",
    "\n",
    "- Pick the stim channel using `mne.pick_types`\n",
    "- Get the data for this channel\n",
    "- Plot it using `plt.plot`\n",
    "\n",
    "Solution is in: `solutions/1a-plot_10s_matplotlib.py`"
   ],
   "metadata": {}
  },
  {
   "cell_type": "code",
   "execution_count": null,
   "source": [],
   "outputs": [],
   "metadata": {}
  },
  {
   "cell_type": "markdown",
   "source": [
    "## Define and read epochs: events or annotations"
   ],
   "metadata": {}
  },
  {
   "cell_type": "markdown",
   "source": [
    "First let's use the events in the stimulation channel:"
   ],
   "metadata": {}
  },
  {
   "cell_type": "code",
   "execution_count": null,
   "source": [
    "events = mne.find_events(raw, stim_channel='STI 014', verbose=True)"
   ],
   "outputs": [],
   "metadata": {}
  },
  {
   "cell_type": "code",
   "execution_count": null,
   "source": [
    "print(events[:5])"
   ],
   "outputs": [],
   "metadata": {}
  },
  {
   "cell_type": "markdown",
   "source": [
    "<div class=\"alert alert-success\">\n",
    "    <b>Exercise</b>:\n",
    "     <ul>\n",
    "         <li>What is the type of `events`?</li>\n",
    "         <li>Can you guess what the 3 columns mean?</li>\n",
    "         <li>How many events of type 2 do we have in the data?</li>\n",
    "    </ul>\n",
    "</div>"
   ],
   "metadata": {}
  },
  {
   "cell_type": "code",
   "execution_count": null,
   "source": [],
   "outputs": [],
   "metadata": {}
  },
  {
   "cell_type": "markdown",
   "source": [
    "Let's visualize the paradigm:"
   ],
   "metadata": {}
  },
  {
   "cell_type": "code",
   "execution_count": null,
   "source": [
    "%matplotlib inline\n",
    "\n",
    "fig = mne.viz.plot_events(events, raw.info['sfreq']);"
   ],
   "outputs": [],
   "metadata": {}
  },
  {
   "cell_type": "markdown",
   "source": [
    "Events are stored as 2D numpy array where the first column is the time instant and the last one is the event number. It is therefore easy to manipulate."
   ],
   "metadata": {}
  },
  {
   "cell_type": "code",
   "execution_count": null,
   "source": [
    "events_new = events.copy()\n",
    "events_new[events_new[:, 2] == 2, 2] = 1  # MATLAB- and R-like syntax\n",
    "events_new[events_new[:, 2] == 4, 2] = 3\n",
    "print(events_new[:5])\n",
    "print(events[:5])"
   ],
   "outputs": [],
   "metadata": {}
  },
  {
   "cell_type": "code",
   "execution_count": null,
   "source": [
    "events = events[events[:, 2] < 5]\n",
    "fig = mne.viz.plot_events(events, raw.info['sfreq']);"
   ],
   "outputs": [],
   "metadata": {}
  },
  {
   "cell_type": "markdown",
   "source": [
    "For event trigger and conditions we use a Python dictionary with keys that contain \"/\" for grouping sub-conditions"
   ],
   "metadata": {}
  },
  {
   "cell_type": "code",
   "execution_count": null,
   "source": [
    "event_id = {\"Visual/Left\": 3, \"Visual/Right\": 4,\n",
    "            \"Auditory/Left\": 1, \"Auditory/Right\": 2}"
   ],
   "outputs": [],
   "metadata": {}
  },
  {
   "cell_type": "code",
   "execution_count": null,
   "source": [
    "fig = mne.viz.plot_events(events, raw.info['sfreq'],\n",
    "                          event_id=event_id);"
   ],
   "outputs": [],
   "metadata": {}
  },
  {
   "cell_type": "code",
   "execution_count": null,
   "source": [
    "%matplotlib qt\n",
    "\n",
    "raw.plot(event_id=event_id, events=events);"
   ],
   "outputs": [],
   "metadata": {}
  },
  {
   "cell_type": "markdown",
   "source": [
    "Define epochs parameters:"
   ],
   "metadata": {}
  },
  {
   "cell_type": "code",
   "execution_count": null,
   "source": [
    "tmin = -0.2  # start of each epoch (200ms before the trigger)\n",
    "tmax = 0.5  # end of each epoch (500ms after the trigger)"
   ],
   "outputs": [],
   "metadata": {}
  },
  {
   "cell_type": "markdown",
   "source": [
    "Define the baseline period:"
   ],
   "metadata": {}
  },
  {
   "cell_type": "code",
   "execution_count": null,
   "source": [
    "baseline = (None, 0)  # means from the first instant to t = 0"
   ],
   "outputs": [],
   "metadata": {}
  },
  {
   "cell_type": "markdown",
   "source": [
    "Define peak-to-peak (amplitude range) rejection parameters for gradiometers, magnetometers and EOG:"
   ],
   "metadata": {}
  },
  {
   "cell_type": "code",
   "execution_count": null,
   "source": [
    "reject = dict(grad=4000e-13, mag=4e-12, eog=150e-6)  # this can be highly data dependent"
   ],
   "outputs": [],
   "metadata": {}
  },
  {
   "cell_type": "markdown",
   "source": [
    "<div class=\"alert alert-info\">\n",
    "    <b>REMARK</b>:\n",
    "     <ul>\n",
    "    <li>The <a href=\"https://autoreject.github.io/\">autoreject</a> project aims to solve this problem of reject parameter setting. See the <a href=\"https://www.sciencedirect.com/science/article/pii/S1053811917305013\">paper</a>.</li>\n",
    "    </ul>\n",
    "</div>"
   ],
   "metadata": {}
  },
  {
   "cell_type": "code",
   "execution_count": null,
   "source": [
    "# we are picky again, this time with EOG\n",
    "picks_meg = mne.pick_types(raw.info, meg=True, eeg=False, eog=True,\n",
    "                           stim=False, exclude='bads')\n",
    "# we start by looking at magnetometer and gradiometer signals"
   ],
   "outputs": [],
   "metadata": {}
  },
  {
   "cell_type": "markdown",
   "source": [
    "Extract epochs:"
   ],
   "metadata": {}
  },
  {
   "cell_type": "code",
   "execution_count": null,
   "source": [
    "epochs = mne.Epochs(raw, events, event_id, tmin, tmax, proj=True,\n",
    "                    picks=picks_meg, baseline=baseline,\n",
    "                    reject=reject)"
   ],
   "outputs": [],
   "metadata": {}
  },
  {
   "cell_type": "code",
   "execution_count": null,
   "source": [
    "print(epochs)"
   ],
   "outputs": [],
   "metadata": {}
  },
  {
   "cell_type": "code",
   "execution_count": null,
   "source": [
    "epochs.drop_bad()  # remove bad epochs based on reject"
   ],
   "outputs": [],
   "metadata": {}
  },
  {
   "cell_type": "code",
   "execution_count": null,
   "source": [
    "epochs.load_data()  # load data in memory"
   ],
   "outputs": [],
   "metadata": {}
  },
  {
   "cell_type": "markdown",
   "source": [
    "Explore the epochs namespace\n",
    "\n",
    "Hit ``epochs.<TAB>``"
   ],
   "metadata": {}
  },
  {
   "cell_type": "code",
   "execution_count": null,
   "source": [],
   "outputs": [],
   "metadata": {}
  },
  {
   "cell_type": "markdown",
   "source": [
    "See how epochs were dropped"
   ],
   "metadata": {}
  },
  {
   "cell_type": "code",
   "execution_count": null,
   "source": [
    "%matplotlib inline\n",
    "\n",
    "epochs.plot_drop_log();"
   ],
   "outputs": [],
   "metadata": {}
  },
  {
   "cell_type": "markdown",
   "source": [
    "<div class=\"alert alert-success\">\n",
    "    <b>Exercise</b>:\n",
    "     <ul>\n",
    "    <li>Using the `mne.events_from_annotations` function get events and event_id and reconstruct new epochs using these</li>\n",
    "    </ul>\n",
    "</div>\n",
    "\n",
    "Solution is in: `solutions/1a-events_from_annotations.py`"
   ],
   "metadata": {}
  },
  {
   "cell_type": "code",
   "execution_count": null,
   "source": [],
   "outputs": [],
   "metadata": {}
  },
  {
   "cell_type": "markdown",
   "source": [
    "### Visualization Epochs\n",
    "\n",
    "See [this page](https://mne.tools/stable/auto_tutorials/epochs/plot_visualize_epochs.html) for options on how to visualize epochs.\n",
    "\n",
    "Here is just an illustration to make a so-called ERP/ERF image:"
   ],
   "metadata": {}
  },
  {
   "cell_type": "code",
   "execution_count": null,
   "source": [
    "%matplotlib inline\n",
    "epochs.plot_image(picks=278, cmap='interactive', sigma=1., vmin=-250, vmax=250)"
   ],
   "outputs": [],
   "metadata": {}
  },
  {
   "cell_type": "code",
   "execution_count": null,
   "source": [
    "import matplotlib.pyplot as plt\n",
    "plt.close('all')"
   ],
   "outputs": [],
   "metadata": {}
  },
  {
   "cell_type": "code",
   "execution_count": null,
   "source": [
    "%matplotlib qt\n",
    "\n",
    "epochs.plot();"
   ],
   "outputs": [],
   "metadata": {}
  },
  {
   "cell_type": "markdown",
   "source": [
    "### The epochs object is your MNE swiss army knife for processing segmented data!\n",
    "\n",
    "- specialized methods for diagnostic plotting of data\n",
    "- averaging\n",
    "- saving\n",
    "- manipulating data, e.g., rearranging or deleting single trials, resampling"
   ],
   "metadata": {}
  },
  {
   "cell_type": "markdown",
   "source": [
    "## More diagnostic plotting"
   ],
   "metadata": {}
  },
  {
   "cell_type": "code",
   "execution_count": null,
   "source": [
    "%matplotlib inline\n",
    "epochs.plot_drop_log();"
   ],
   "outputs": [],
   "metadata": {}
  },
  {
   "cell_type": "code",
   "execution_count": null,
   "source": [
    "for drop_log in epochs.drop_log[:20]:\n",
    "    print(drop_log)"
   ],
   "outputs": [],
   "metadata": {}
  },
  {
   "cell_type": "code",
   "execution_count": null,
   "source": [
    "epochs.copy().drop(10, reason=\"I don't like this one\").plot_drop_log();"
   ],
   "outputs": [],
   "metadata": {}
  },
  {
   "cell_type": "markdown",
   "source": [
    "## basic IO "
   ],
   "metadata": {}
  },
  {
   "cell_type": "markdown",
   "source": [
    "The standard scenario is saving the epochs into .fif file together with all the header data."
   ],
   "metadata": {}
  },
  {
   "cell_type": "code",
   "execution_count": null,
   "source": [
    "epochs.save('sample-epo.fif', overwrite=True)  # note that epochs are save in files ending with -epo.fif"
   ],
   "outputs": [],
   "metadata": {}
  },
  {
   "cell_type": "code",
   "execution_count": null,
   "source": [
    "data = epochs.get_data()\n",
    "data.shape"
   ],
   "outputs": [],
   "metadata": {}
  },
  {
   "cell_type": "markdown",
   "source": [
    "Scipy also supports reading and writing of matlab files. You can save your single trials with:"
   ],
   "metadata": {}
  },
  {
   "cell_type": "code",
   "execution_count": null,
   "source": [
    "from scipy import io\n",
    "epochs_data = epochs.get_data()\n",
    "print(epochs_data.shape)\n",
    "io.savemat('epochs_data.mat', dict(epochs_data=epochs_data),\n",
    "           oned_as='row')"
   ],
   "outputs": [],
   "metadata": {}
  },
  {
   "cell_type": "markdown",
   "source": [
    "Now let's use BIDS derivatives to store the epochs at the right place:"
   ],
   "metadata": {}
  },
  {
   "cell_type": "code",
   "execution_count": null,
   "source": [
    "bp_epochs = bp.copy().update(\n",
    "    root=bids_root + \"/derivatives\",\n",
    "    suffix=\"epo\",\n",
    "    check=False\n",
    ")\n",
    "\n",
    "epochs.save(bp_epochs, overwrite=True)\n",
    "bp_epochs.fpath"
   ],
   "outputs": [],
   "metadata": {}
  },
  {
   "cell_type": "markdown",
   "source": [
    "### Average the epochs to get ERF/ERP and plot it!"
   ],
   "metadata": {}
  },
  {
   "cell_type": "code",
   "execution_count": null,
   "source": [
    "evoked = epochs.average()\n",
    "print(evoked)"
   ],
   "outputs": [],
   "metadata": {}
  },
  {
   "cell_type": "code",
   "execution_count": null,
   "source": [
    "%matplotlib qt\n",
    "\n",
    "evoked.plot();"
   ],
   "outputs": [],
   "metadata": {}
  },
  {
   "cell_type": "markdown",
   "source": [
    "We can also show sensor position as line color:"
   ],
   "metadata": {}
  },
  {
   "cell_type": "code",
   "execution_count": null,
   "source": [
    "epochs"
   ],
   "outputs": [],
   "metadata": {}
  },
  {
   "cell_type": "code",
   "execution_count": null,
   "source": [
    "%matplotlib inline\n",
    "evoked.plot(spatial_colors=True);  # note the legend"
   ],
   "outputs": [],
   "metadata": {}
  },
  {
   "cell_type": "code",
   "execution_count": null,
   "source": [
    "epochs['Auditory/Left'].average().plot(spatial_colors=True);  # note the legend"
   ],
   "outputs": [],
   "metadata": {}
  },
  {
   "cell_type": "code",
   "execution_count": null,
   "source": [
    "epochs['Left'].average().plot(spatial_colors=True);  # note the legend"
   ],
   "outputs": [],
   "metadata": {}
  },
  {
   "cell_type": "code",
   "execution_count": null,
   "source": [
    "raw.plot_sensors(ch_type='eeg');"
   ],
   "outputs": [],
   "metadata": {}
  },
  {
   "cell_type": "code",
   "execution_count": null,
   "source": [
    "evoked.plot_topomap(ch_type='mag', times=[0.05, 0.1, 0.15]);"
   ],
   "outputs": [],
   "metadata": {}
  },
  {
   "cell_type": "code",
   "execution_count": null,
   "source": [
    "evoked.plot_topomap(ch_type='grad', times=[0.05, 0.1, 0.15]);"
   ],
   "outputs": [],
   "metadata": {}
  },
  {
   "cell_type": "code",
   "execution_count": null,
   "source": [
    "import numpy as np\n",
    "# pure topography plots called topomap in the MNE jargon\n",
    "for ch_type in ('mag', 'grad'):\n",
    "    evoked.plot_topomap(times=np.linspace(0.05, 0.15, 10),\n",
    "                        ch_type=ch_type);"
   ],
   "outputs": [],
   "metadata": {}
  },
  {
   "cell_type": "markdown",
   "source": [
    "Topoplot and time series can also be shown in one single plot:"
   ],
   "metadata": {}
  },
  {
   "cell_type": "code",
   "execution_count": null,
   "source": [
    "evoked.plot_joint();"
   ],
   "outputs": [],
   "metadata": {}
  },
  {
   "cell_type": "code",
   "execution_count": null,
   "source": [
    "evoked.plot_joint(times=[0.1]);"
   ],
   "outputs": [],
   "metadata": {}
  },
  {
   "cell_type": "markdown",
   "source": [
    "## Accessing and indexing epochs by condition\n",
    "\n",
    "Epochs can be indexed by integers or slices to select a subset of epochs but also with strings to select by conditions `epochs[condition]`"
   ],
   "metadata": {}
  },
  {
   "cell_type": "code",
   "execution_count": null,
   "source": [
    "epochs[0]  # first epoch"
   ],
   "outputs": [],
   "metadata": {}
  },
  {
   "cell_type": "code",
   "execution_count": null,
   "source": [
    "epochs[:10]  # first 10 epochs"
   ],
   "outputs": [],
   "metadata": {}
  },
  {
   "cell_type": "code",
   "execution_count": null,
   "source": [
    "epochs['Visual/Left']  # epochs for the left visual condition"
   ],
   "outputs": [],
   "metadata": {}
  },
  {
   "cell_type": "code",
   "execution_count": null,
   "source": [
    "# remember ...\n",
    "event_id"
   ],
   "outputs": [],
   "metadata": {}
  },
  {
   "cell_type": "markdown",
   "source": [
    "In event_id, \"/\" selects conditions in a hierarchical way, e.g. here, \"auditory\" vs. \"visual\", \"left\" vs. \"right\", and MNE can select them individually"
   ],
   "metadata": {}
  },
  {
   "cell_type": "code",
   "execution_count": null,
   "source": [
    "epochs['Auditory/Left'].average().\\\n",
    "    pick_types(meg='grad').crop(None, 0.2).plot(spatial_colors=True);"
   ],
   "outputs": [],
   "metadata": {}
  },
  {
   "cell_type": "code",
   "execution_count": null,
   "source": [
    "event_id"
   ],
   "outputs": [],
   "metadata": {}
  },
  {
   "cell_type": "code",
   "execution_count": null,
   "source": [
    "epochs['Visual']  # epochs for the visual condition (either left or right)"
   ],
   "outputs": [],
   "metadata": {}
  },
  {
   "cell_type": "code",
   "execution_count": null,
   "source": [
    "epochs['Left']"
   ],
   "outputs": [],
   "metadata": {}
  },
  {
   "cell_type": "markdown",
   "source": [
    "Apply this to visualize all the conditions in `event_id`"
   ],
   "metadata": {}
  },
  {
   "cell_type": "code",
   "execution_count": null,
   "source": [
    "for condition in event_id:\n",
    "    epochs[condition].average().plot_topomap(times=[0.1, 0.15], title=condition);"
   ],
   "outputs": [],
   "metadata": {}
  },
  {
   "cell_type": "markdown",
   "source": [
    "## Write evoked data to disk"
   ],
   "metadata": {}
  },
  {
   "cell_type": "code",
   "execution_count": null,
   "source": [
    "evoked.save('sample-ave.fif')  # note that the file for evoked ends with -ave.fif"
   ],
   "outputs": [],
   "metadata": {}
  },
  {
   "cell_type": "markdown",
   "source": [
    "or to write multiple conditions in 1 file"
   ],
   "metadata": {}
  },
  {
   "cell_type": "code",
   "execution_count": null,
   "source": [
    "evokeds_list = [epochs[k].average() for k in event_id]  # get evokeds\n",
    "mne.write_evokeds('sample-ave.fif', evokeds_list)"
   ],
   "outputs": [],
   "metadata": {}
  },
  {
   "cell_type": "markdown",
   "source": [
    "Now let's write automagically at the right place using a BIDSPath"
   ],
   "metadata": {}
  },
  {
   "cell_type": "code",
   "execution_count": null,
   "source": [
    "bp_evoked = bp.copy().update(\n",
    "    root=bids_root + '/derivatives',\n",
    "    suffix='ave',\n",
    "    check=False\n",
    ")\n",
    "\n",
    "mne.write_evokeds(bp_evoked, evokeds_list)\n",
    "bp_evoked.fpath"
   ],
   "outputs": [],
   "metadata": {}
  },
  {
   "cell_type": "markdown",
   "source": [
    "### Reading evoked from disk\n",
    "\n",
    "It is also possible to read evoked data stored in a fif file:"
   ],
   "metadata": {}
  },
  {
   "cell_type": "code",
   "execution_count": null,
   "source": [
    "evoked_fname = bp_evoked.fpath\n",
    "evoked1 = mne.read_evokeds(evoked_fname, condition=0, baseline=(None, 0), proj=True)"
   ],
   "outputs": [],
   "metadata": {}
  },
  {
   "cell_type": "markdown",
   "source": [
    "Or another one stored in the same file:"
   ],
   "metadata": {}
  },
  {
   "cell_type": "code",
   "execution_count": null,
   "source": [
    "evoked2 = mne.read_evokeds(evoked_fname, condition=1,\n",
    "                           baseline=(None, 0), proj=True)"
   ],
   "outputs": [],
   "metadata": {}
  },
  {
   "cell_type": "markdown",
   "source": [
    "Or give the explicit name of the averaged condition:"
   ],
   "metadata": {}
  },
  {
   "cell_type": "code",
   "execution_count": null,
   "source": [
    "evoked3 = mne.read_evokeds(evoked_fname, condition='Auditory/Left',\n",
    "                           baseline=(None, 0), proj=True)"
   ],
   "outputs": [],
   "metadata": {}
  },
  {
   "cell_type": "markdown",
   "source": [
    "**Remark:** Did you notice that you can apply some preprocessing on reading the evokeds from disk?"
   ],
   "metadata": {}
  },
  {
   "cell_type": "markdown",
   "source": [
    "### Compute a contrast:"
   ],
   "metadata": {}
  },
  {
   "cell_type": "code",
   "execution_count": null,
   "source": [
    "contrast = mne.combine_evoked([evoked1, evoked2], [0.5, -0.5])"
   ],
   "outputs": [],
   "metadata": {}
  },
  {
   "cell_type": "markdown",
   "source": [
    "Note that this combines evokeds taking into account the number of averaged epochs (to scale the noise variance)"
   ],
   "metadata": {}
  },
  {
   "cell_type": "code",
   "execution_count": null,
   "source": [
    "print(evoked1.nave)  # average of 55 epochs\n",
    "print(contrast.nave)  # average of 116 epochs"
   ],
   "outputs": [],
   "metadata": {}
  },
  {
   "cell_type": "code",
   "execution_count": null,
   "source": [
    "print(contrast)"
   ],
   "outputs": [],
   "metadata": {}
  },
  {
   "cell_type": "code",
   "execution_count": null,
   "source": [
    "fig = contrast.plot_joint()"
   ],
   "outputs": [],
   "metadata": {}
  },
  {
   "cell_type": "markdown",
   "source": [
    "### Save your figure as pdf"
   ],
   "metadata": {}
  },
  {
   "cell_type": "code",
   "execution_count": null,
   "source": [
    "%matplotlib qt\n",
    "import numpy as np\n",
    "contrast.plot_topomap(times=np.linspace(0.05, 0.15, 5), ch_type='mag')\n",
    "plt.savefig('toto.pdf')\n",
    "!open toto.pdf  # works only on a mac"
   ],
   "outputs": [],
   "metadata": {}
  },
  {
   "cell_type": "markdown",
   "source": [
    "<div class=\"alert alert-success\">\n",
    "    <b>EXERCISE</b>:\n",
    "     <ul>\n",
    "      <li>Extract Epochs restricted to magnetometers</li>\n",
    "    <li>Construct epochs with a whole-epoch baseline. Then, filter raw data at 1 Hz, construct epochs from that. Compare the resulting Evokeds (filter vs. baseline)</li>\n",
    "    <li>Plot the difference between all *Visual* and all *Auditory* stimulus presentations</li>\n",
    "    <li>Recompute everything for EEG</li>\n",
    "    </ul>\n",
    "</div>"
   ],
   "metadata": {}
  },
  {
   "cell_type": "code",
   "execution_count": null,
   "source": [],
   "outputs": [],
   "metadata": {}
  },
  {
   "cell_type": "markdown",
   "source": [
    "## ADVANCED\n",
    "### Some Python + MNE Kung Fu to plot selected channels and conditions"
   ],
   "metadata": {}
  },
  {
   "cell_type": "code",
   "execution_count": null,
   "source": [
    "%matplotlib inline\n",
    "\n",
    "sensor = \"MEG 1312\"\n",
    "\n",
    "evokeds = {k:epochs[k].average() for k in event_id}  # funny expression, no? Google \"dict comprehension\"\n",
    "\n",
    "for condition, evoked in evokeds.items():  # that's what dictionaries are good for, looping!\n",
    "    data = evoked.copy().pick_channels([sensor]).data[0]\n",
    "    plt.plot(evoked.times, data * 1e13, label=condition)\n",
    "\n",
    "plt.legend(loc=\"lower left\")\n",
    "plt.ylabel(\"fT/m\")\n",
    "plt.xlabel(\"time (s)\")\n",
    "plt.suptitle(\"MEG at electrode {}\".format(sensor));"
   ],
   "outputs": [],
   "metadata": {}
  },
  {
   "cell_type": "markdown",
   "source": [
    "## ADVANCED: Customize your plots\n",
    "\n",
    "Want to have every text in blue?"
   ],
   "metadata": {}
  },
  {
   "cell_type": "code",
   "execution_count": null,
   "source": [
    "import matplotlib as mpl\n",
    "fig = evoked.plot(show=False)  # butterfly plots\n",
    "fig.subplots_adjust(hspace=1.0)\n",
    "for text in fig.findobj(mpl.text.Text):\n",
    "    text.set_fontsize(16)\n",
    "    text.set_color('blue')\n",
    "for ax in fig.get_axes():\n",
    "    ax.axvline(0., color='red', linestyle='--')\n",
    "fig.savefig('plot_erf.pdf');"
   ],
   "outputs": [],
   "metadata": {}
  },
  {
   "cell_type": "code",
   "execution_count": null,
   "source": [
    "%matplotlib qt\n",
    "mne.viz.plot_evoked_topo([evoked1, evoked2]);"
   ],
   "outputs": [],
   "metadata": {}
  },
  {
   "cell_type": "markdown",
   "source": [
    "## Learn more:\n",
    "\n",
    "Have a look at the MNE tutorials at https://mne.tools/stable/auto_tutorials/index.html"
   ],
   "metadata": {}
  }
 ],
 "metadata": {
  "kernelspec": {
   "display_name": "Python 3",
   "language": "python",
   "name": "python3"
  },
  "language_info": {
   "codemirror_mode": {
    "name": "ipython",
    "version": 3
   },
   "file_extension": ".py",
   "mimetype": "text/x-python",
   "name": "python",
   "nbconvert_exporter": "python",
   "pygments_lexer": "ipython3",
   "version": "3.8.6"
  },
  "widgets": {
   "state": {},
   "version": "1.1.2"
  }
 },
 "nbformat": 4,
 "nbformat_minor": 1
}
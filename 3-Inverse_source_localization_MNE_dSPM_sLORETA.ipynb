{
 "cells": [
  {
   "cell_type": "markdown",
   "source": [
    "# Source localization with MNE/dSPM/sLORETA\n",
    "\n",
    "The aim of this lecture is to teach you how to compute and apply\n",
    "a linear inverse method such as MNE/dSPM/sLORETA on evoked/raw/epochs data.\n",
    "\n",
    "`\n",
    "Authors: Alexandre Gramfort <alexandre.gramfort@inria.fr>\n",
    "         Denis Engemann <denis.engemann@gmail.com>\n",
    "         Richard Hoechenberger <richard.hoechenberger@gmail.com>\n",
    "`"
   ],
   "metadata": {}
  },
  {
   "cell_type": "code",
   "execution_count": null,
   "source": [
    "# add plot inline in the page\n",
    "%matplotlib inline\n",
    "\n",
    "import numpy as np\n",
    "import matplotlib.pyplot as plt\n",
    "\n",
    "import mne\n",
    "mne.set_log_level('WARNING')"
   ],
   "outputs": [],
   "metadata": {}
  },
  {
   "cell_type": "markdown",
   "source": [
    "## Get epochs (from first notebook)"
   ],
   "metadata": {}
  },
  {
   "cell_type": "code",
   "execution_count": null,
   "source": [
    "from pathlib import Path\n",
    "import mne\n",
    "from mne_bids import BIDSPath\n",
    "\n",
    "bids_root = Path('ds000248/')\n",
    "deriv_root = bids_root / 'derivatives' \n",
    "\n",
    "bp = BIDSPath(\n",
    "    root=deriv_root,  # BIDS derivatives folder\n",
    "    subject='01',  # subject name as a string\n",
    "    datatype='meg',  # datatype (meg, eeg, ieeg, anat, etc.)\n",
    "    task='audiovisual',  # Task e.g. audiovisual, rest, etc.\n",
    "    run='01',  # run id (optional)\n",
    "    session=None,  # there is no session on this dataset\n",
    "    suffix=\"epo\",\n",
    "    extension='.fif',\n",
    "    check=False\n",
    ")\n",
    "\n",
    "epochs_fname = bp.fpath\n",
    "epochs_fname"
   ],
   "outputs": [],
   "metadata": {}
  },
  {
   "cell_type": "code",
   "execution_count": null,
   "source": [
    "epochs = mne.read_epochs(epochs_fname)"
   ],
   "outputs": [],
   "metadata": {}
  },
  {
   "cell_type": "markdown",
   "source": [
    "## Compute noise covariance\n",
    "\n",
    "See:\n",
    "\n",
    "Engemann D.A., Gramfort A., Automated model selection in covariance estimation and spatial whitening of MEG and EEG signals, Neuroimage. 2015 Mar"
   ],
   "metadata": {}
  },
  {
   "cell_type": "code",
   "execution_count": null,
   "source": [
    "noise_cov = mne.compute_covariance(epochs, tmax=0.,\n",
    "                                   method=['shrunk', 'empirical'])\n",
    "print(noise_cov.data.shape)"
   ],
   "outputs": [],
   "metadata": {}
  },
  {
   "cell_type": "code",
   "execution_count": null,
   "source": [
    "mne.viz.plot_cov(noise_cov, epochs.info)"
   ],
   "outputs": [],
   "metadata": {}
  },
  {
   "cell_type": "markdown",
   "source": [
    "## Compute the evoked response"
   ],
   "metadata": {}
  },
  {
   "cell_type": "code",
   "execution_count": null,
   "source": [
    "evoked = epochs.average()\n",
    "evoked.plot()\n",
    "evoked.plot_topomap(times=np.linspace(0.05, 0.15, 5), ch_type='mag');"
   ],
   "outputs": [],
   "metadata": {}
  },
  {
   "cell_type": "markdown",
   "source": [
    "# Show whitening"
   ],
   "metadata": {}
  },
  {
   "cell_type": "code",
   "execution_count": null,
   "source": [
    "%matplotlib inline\n",
    "evoked.plot_white(noise_cov);"
   ],
   "outputs": [],
   "metadata": {}
  },
  {
   "cell_type": "markdown",
   "source": [
    "## Inverse modeling with MNE and dSPM on evoked and raw data"
   ],
   "metadata": {}
  },
  {
   "cell_type": "markdown",
   "source": [
    "Import the required functions:"
   ],
   "metadata": {}
  },
  {
   "cell_type": "code",
   "execution_count": null,
   "source": [
    "from mne.forward import read_forward_solution\n",
    "from mne.minimum_norm import (make_inverse_operator, apply_inverse,\n",
    "                              write_inverse_operator)"
   ],
   "outputs": [],
   "metadata": {}
  },
  {
   "cell_type": "markdown",
   "source": [
    "## Read the forward solution and compute the inverse operator\n",
    "\n",
    "MNE/dSPM/sLORETA lead to linear inverse models that are independant\n",
    "from the data (as they use just the noise covariance) and can therefore be\n",
    "precomputed and applied to the data at a later stage."
   ],
   "metadata": {}
  },
  {
   "cell_type": "code",
   "execution_count": null,
   "source": [
    "bp_fwd = bp.copy().update(\n",
    "    root=deriv_root,\n",
    "    suffix='fwd',\n",
    "    task=None,\n",
    "    run=None,\n",
    "    check=False\n",
    ")\n",
    "\n",
    "fwd = mne.read_forward_solution(bp_fwd)\n",
    "fwd = mne.convert_forward_solution(fwd, surf_ori=True)\n",
    "\n",
    "# Restrict forward solution as necessary for MEG\n",
    "fwd = mne.pick_types_forward(fwd, meg=True, eeg=False)\n",
    "\n",
    "# make an M/EEG, MEG-only, and EEG-only inverse operator\n",
    "info = evoked.info\n",
    "inverse_operator = make_inverse_operator(info, fwd, noise_cov,\n",
    "                                         loose=0.2, depth=0.8)\n",
    "\n",
    "write_inverse_operator('sample_audvis-meg-oct-6-inv.fif',\n",
    "                       inverse_operator)"
   ],
   "outputs": [],
   "metadata": {}
  },
  {
   "cell_type": "markdown",
   "source": [
    "## Compute inverse solution / Apply inverse operators"
   ],
   "metadata": {}
  },
  {
   "cell_type": "code",
   "execution_count": null,
   "source": [
    "method = \"dSPM\"\n",
    "snr = 3.\n",
    "lambda2 = 1. / snr ** 2\n",
    "stc = apply_inverse(evoked, inverse_operator, lambda2,\n",
    "                    method=method, pick_ori=None)\n",
    "print(stc)"
   ],
   "outputs": [],
   "metadata": {}
  },
  {
   "cell_type": "code",
   "execution_count": null,
   "source": [
    "stc.data.shape"
   ],
   "outputs": [],
   "metadata": {}
  },
  {
   "cell_type": "code",
   "execution_count": null,
   "source": [
    "stc.save('fixed_ori')"
   ],
   "outputs": [],
   "metadata": {}
  },
  {
   "cell_type": "code",
   "execution_count": null,
   "source": [
    "# make one with no orientation constraint (free orientation)\n",
    "# inverse_operator = make_inverse_operator(info, fwd, noise_cov,\n",
    "#                                          loose=1., depth=0.8)\n",
    "# stc = apply_inverse(evoked, inverse_operator, lambda2,\n",
    "#                     method=method, pick_ori=None)\n",
    "# stc.save('free_ori')"
   ],
   "outputs": [],
   "metadata": {}
  },
  {
   "cell_type": "markdown",
   "source": [
    "The ``stc`` (Source Time Courses) are defined on a source space formed by 7498 candidate\n",
    "locations and for a duration spanning 106 time points."
   ],
   "metadata": {}
  },
  {
   "cell_type": "markdown",
   "source": [
    "## Show the result"
   ],
   "metadata": {}
  },
  {
   "cell_type": "code",
   "execution_count": null,
   "source": [
    "subjects_dir = bids_root / 'derivatives' / 'freesurfer' / 'subjects'\n",
    "\n",
    "brain = stc.plot(surface='inflated', hemi='rh', subjects_dir=subjects_dir)\n",
    "brain.save_image('dspm.jpg')"
   ],
   "outputs": [],
   "metadata": {}
  },
  {
   "cell_type": "markdown",
   "source": [
    "## Morphing data to an average brain for group studies"
   ],
   "metadata": {}
  },
  {
   "cell_type": "code",
   "execution_count": null,
   "source": [
    "subject = \"sub-01\"\n",
    "\n",
    "morph = mne.compute_source_morph(stc, subject_from=subject,\n",
    "                                 subject_to='fsaverage',\n",
    "                                 subjects_dir=subjects_dir)\n",
    "stc_fsaverage = morph.apply(stc)"
   ],
   "outputs": [],
   "metadata": {}
  },
  {
   "cell_type": "code",
   "execution_count": null,
   "source": [
    "stc_fsaverage.save('fsaverage_dspm')"
   ],
   "outputs": [],
   "metadata": {}
  },
  {
   "cell_type": "code",
   "execution_count": null,
   "source": [
    "brain_fsaverage = stc_fsaverage.plot(surface='inflated', hemi='rh',\n",
    "                                     subjects_dir=subjects_dir)\n",
    "brain_fsaverage.save_image('dspm_fsaverage.jpg')"
   ],
   "outputs": [],
   "metadata": {}
  },
  {
   "cell_type": "markdown",
   "source": [
    "## Exercises\n",
    "- Run sLORETA on the same data and compare source localizations\n",
    "- Run an LCMV beamformer on the same data and compare source localizations"
   ],
   "metadata": {}
  },
  {
   "cell_type": "markdown",
   "source": [
    "### Going further:\n",
    "\n",
    "- https://mne.tools/dev/auto_tutorials/index.html#source-localization-and-inverses\n",
    "- https://mne.tools/dev/auto_examples/inverse/compute_mne_inverse_epochs_in_label.html\n",
    "- https://mne.tools/dev/auto_examples/inverse/plot_label_source_activations.html\n",
    "- https://mne.tools/dev/auto_examples/inverse/plot_label_from_stc.html"
   ],
   "metadata": {}
  }
 ],
 "metadata": {
  "kernelspec": {
   "display_name": "Python 3",
   "language": "python",
   "name": "python3"
  },
  "language_info": {
   "codemirror_mode": {
    "name": "ipython",
    "version": 3
   },
   "file_extension": ".py",
   "mimetype": "text/x-python",
   "name": "python",
   "nbconvert_exporter": "python",
   "pygments_lexer": "ipython3",
   "version": "3.8.6"
  }
 },
 "nbformat": 4,
 "nbformat_minor": 1
}